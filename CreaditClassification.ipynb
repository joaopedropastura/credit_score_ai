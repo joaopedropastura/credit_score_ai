{
  "nbformat": 4,
  "nbformat_minor": 0,
  "metadata": {
    "colab": {
      "provenance": [],
      "authorship_tag": "ABX9TyPcRSpGNfj1oTD8WB9SRdBO",
      "include_colab_link": true
    },
    "kernelspec": {
      "name": "python3",
      "display_name": "Python 3"
    },
    "language_info": {
      "name": "python"
    }
  },
  "cells": [
    {
      "cell_type": "markdown",
      "metadata": {
        "id": "view-in-github",
        "colab_type": "text"
      },
      "source": [
        "<a href=\"https://colab.research.google.com/github/joaopedropastura/credit_score_ai/blob/main/CreaditClassification.ipynb\" target=\"_parent\"><img src=\"https://colab.research.google.com/assets/colab-badge.svg\" alt=\"Open In Colab\"/></a>"
      ]
    },
    {
      "cell_type": "code",
      "execution_count": null,
      "metadata": {
        "id": "m-fshXCki6hM"
      },
      "outputs": [],
      "source": [
        "!pip install -U scikit-learn\n",
        "!pip install pandas\n",
        "!pip install joblib"
      ]
    },
    {
      "cell_type": "code",
      "source": [
        "from sklearn.tree import DecisionTreeClassifier, plot_tree\n",
        "from sklearn.model_selection import train_test_split\n",
        "from sklearn.metrics import accuracy_score, confusion_matrix\n",
        "from joblib import load, dump\n",
        "import numpy as np # linear algebra\n",
        "import pandas as pd # data processing, CSV file I/O (e.g. pd.read_csv)\n",
        "import os\n",
        "from sklearn.preprocessing import LabelEncoder"
      ],
      "metadata": {
        "id": "qLt5GGf1l2eC"
      },
      "execution_count": 2,
      "outputs": []
    },
    {
      "cell_type": "code",
      "source": [
        "path = \"/content/credit_score.csv\"\n",
        "\n",
        "source = pd.read_csv(path)\n",
        "le = LabelEncoder()"
      ],
      "metadata": {
        "colab": {
          "base_uri": "https://localhost:8080/"
        },
        "id": "-4MK8yWknZLx",
        "outputId": "86fa440f-dc36-49ff-fc60-d53cc8fcb5e1"
      },
      "execution_count": 60,
      "outputs": [
        {
          "output_type": "stream",
          "name": "stderr",
          "text": [
            "<ipython-input-60-0f7882e52b77>:3: DtypeWarning: Columns (26) have mixed types. Specify dtype option on import or set low_memory=False.\n",
            "  source = pd.read_csv(path)\n"
          ]
        }
      ]
    },
    {
      "cell_type": "code",
      "source": [
        "print(source)"
      ],
      "metadata": {
        "id": "yQR8P_zMrHtY"
      },
      "execution_count": null,
      "outputs": []
    },
    {
      "cell_type": "code",
      "source": [
        "source = source.drop(['ID', 'Customer_ID', 'SSN', 'Credit_History_Age', 'Payment_Behaviour', 'Name', 'Type_of_Loan'], axis=1)"
      ],
      "metadata": {
        "id": "frizJz1jn-pA"
      },
      "execution_count": 61,
      "outputs": []
    },
    {
      "cell_type": "code",
      "source": [
        "Month = source[\"Month\"].unique()\n",
        "Occupation = source[\"Occupation\"].unique()\n",
        "Credit_Mix = source[\"Credit_Mix\"].unique()\n",
        "Credit_Score = source[\"Credit_Score\"].unique()\n",
        "Payment_of_Min_Amount = source[\"Payment_of_Min_Amount\"].unique()"
      ],
      "metadata": {
        "id": "Kv7qxeylraiK"
      },
      "execution_count": 62,
      "outputs": []
    },
    {
      "cell_type": "code",
      "source": [
        "le.fit(Month)\n",
        "source['Month'] = le.transform(source['Month'])\n",
        "\n",
        "le.fit(Occupation)\n",
        "source['Occupation'] = le.transform(source['Occupation'])\n",
        "\n",
        "le.fit(Credit_Mix)\n",
        "source['Credit_Mix'] = le.transform(source['Credit_Mix'])\n",
        "\n",
        "le.fit(Credit_Score)\n",
        "source['Credit_Score'] = le.transform(source['Credit_Score'])\n",
        "\n",
        "le.fit(Payment_of_Min_Amount)\n",
        "source['Payment_of_Min_Amount'] = le.transform(source['Payment_of_Min_Amount'])"
      ],
      "metadata": {
        "id": "rroHX-fZsSrS"
      },
      "execution_count": 63,
      "outputs": []
    },
    {
      "cell_type": "code",
      "source": [
        "print(source[source['Age']].str.find('-'))\n"
      ],
      "metadata": {
        "id": "POWU9hAcE4bW"
      },
      "execution_count": null,
      "outputs": []
    },
    {
      "cell_type": "code",
      "source": [
        "source[\"Annual_Income\"] = source[\"Annual_Income\"].str[:-1]"
      ],
      "metadata": {
        "id": "zDU9hi5s7gqQ"
      },
      "execution_count": 71,
      "outputs": []
    },
    {
      "cell_type": "code",
      "source": [
        "print(source[source['Age'] ==  (source['age'] if source['Age'].str.find('-') == -1  else source['Age'].pop(source['Age'].str.find('-')) )])"
      ],
      "metadata": {
        "id": "r_pq7J0Y9coH"
      },
      "execution_count": null,
      "outputs": []
    },
    {
      "cell_type": "code",
      "source": [
        "print(source)"
      ],
      "metadata": {
        "id": "he0t-Zctp8pj"
      },
      "execution_count": null,
      "outputs": []
    },
    {
      "cell_type": "code",
      "source": [
        "X = source.drop('Credit_Score', axis=1)\n",
        "Y = source['Credit_Score']\n",
        "\n",
        "X_train, X_test, Y_train, Y_test = \\\n",
        "  train_test_split(X, Y, test_size=0.2, random_state=500)\n",
        "\n",
        "model = DecisionTreeClassifier(max_depth=30, min_samples_split=80)\n",
        "\n",
        "model.fit(X_train, Y_train)\n",
        "\n",
        "Y_pred = model.predict(X_test)\n",
        "accuracy = accuracy_score(Y_test, Y_pred)\n",
        "\n",
        "matrix = confusion_matrix(Y_test, Y_pred)\n",
        "\n",
        "\n",
        "print(accuracy)\n"
      ],
      "metadata": {
        "id": "IhcPMKLaxFEh"
      },
      "execution_count": null,
      "outputs": []
    }
  ]
}